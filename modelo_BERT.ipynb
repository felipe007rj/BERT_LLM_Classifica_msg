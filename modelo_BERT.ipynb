{
 "cells": [
  {
   "cell_type": "markdown",
   "metadata": {},
   "source": [
    "### REQUISIÇÃO DO NO SGBD E EXPORT PARA CSV"
   ]
  },
  {
   "cell_type": "code",
   "execution_count": 5,
   "metadata": {},
   "outputs": [
    {
     "name": "stdout",
     "output_type": "stream",
     "text": [
      "Dados exportados com sucesso para: reclamacoes_data.csv\n"
     ]
    }
   ],
   "source": [
    "import sqlite3\n",
    "import pandas as pd\n",
    "\n",
    "# Função para exportar dados do SQLite para CSV\n",
    "def export_to_csv(database_name, csv_file):\n",
    "    connection = sqlite3.connect(database_name)\n",
    "    query = \"SELECT * FROM reclamacoes\"\n",
    "    \n",
    "    # Usando pandas para ler os dados do SQLite e exportar para CSV\n",
    "    df = pd.read_sql_query(query, connection)\n",
    "    df.to_csv(csv_file, index=False)\n",
    "    \n",
    "    connection.close()\n",
    "\n",
    "# Nome do banco de dados SQLite\n",
    "database_name = 'reclamacoes.db'\n",
    "\n",
    "# Nome do arquivo CSV de saída\n",
    "csv_file = 'reclamacoes_data.csv'\n",
    "\n",
    "# Chamando a função para exportar os dados\n",
    "export_to_csv(database_name, csv_file)\n",
    "\n",
    "print(f'Dados exportados com sucesso para: {csv_file}')\n"
   ]
  },
  {
   "cell_type": "code",
   "execution_count": 6,
   "metadata": {},
   "outputs": [
    {
     "data": {
      "text/html": [
       "<div>\n",
       "<style scoped>\n",
       "    .dataframe tbody tr th:only-of-type {\n",
       "        vertical-align: middle;\n",
       "    }\n",
       "\n",
       "    .dataframe tbody tr th {\n",
       "        vertical-align: top;\n",
       "    }\n",
       "\n",
       "    .dataframe thead th {\n",
       "        text-align: right;\n",
       "    }\n",
       "</style>\n",
       "<table border=\"1\" class=\"dataframe\">\n",
       "  <thead>\n",
       "    <tr style=\"text-align: right;\">\n",
       "      <th></th>\n",
       "      <th>id</th>\n",
       "      <th>nome</th>\n",
       "      <th>local</th>\n",
       "      <th>idade</th>\n",
       "      <th>tipo_reclamacao</th>\n",
       "      <th>mensagem</th>\n",
       "    </tr>\n",
       "  </thead>\n",
       "  <tbody>\n",
       "    <tr>\n",
       "      <th>0</th>\n",
       "      <td>1</td>\n",
       "      <td>Jordan Hayes</td>\n",
       "      <td>Michaelshire</td>\n",
       "      <td>31</td>\n",
       "      <td>Cancelamento</td>\n",
       "      <td>Estou enfrentando dificuldades para cancelar m...</td>\n",
       "    </tr>\n",
       "    <tr>\n",
       "      <th>1</th>\n",
       "      <td>2</td>\n",
       "      <td>Laurie Stevens</td>\n",
       "      <td>East Garyview</td>\n",
       "      <td>20</td>\n",
       "      <td>Atendimento</td>\n",
       "      <td>O atendimento ao cliente deixou a desejar. Não...</td>\n",
       "    </tr>\n",
       "    <tr>\n",
       "      <th>2</th>\n",
       "      <td>3</td>\n",
       "      <td>Ronnie Luna</td>\n",
       "      <td>Jameschester</td>\n",
       "      <td>35</td>\n",
       "      <td>Cancelamento</td>\n",
       "      <td>Estou enfrentando dificuldades para cancelar m...</td>\n",
       "    </tr>\n",
       "    <tr>\n",
       "      <th>3</th>\n",
       "      <td>4</td>\n",
       "      <td>Kayla Wu</td>\n",
       "      <td>Hernandezmouth</td>\n",
       "      <td>28</td>\n",
       "      <td>Dados Cadastrais</td>\n",
       "      <td>As alterações recentes em meus dados cadastrai...</td>\n",
       "    </tr>\n",
       "    <tr>\n",
       "      <th>4</th>\n",
       "      <td>5</td>\n",
       "      <td>Johnny Molina</td>\n",
       "      <td>New Erin</td>\n",
       "      <td>46</td>\n",
       "      <td>Atendimento</td>\n",
       "      <td>Fui transferido para vários setores e ainda nã...</td>\n",
       "    </tr>\n",
       "    <tr>\n",
       "      <th>...</th>\n",
       "      <td>...</td>\n",
       "      <td>...</td>\n",
       "      <td>...</td>\n",
       "      <td>...</td>\n",
       "      <td>...</td>\n",
       "      <td>...</td>\n",
       "    </tr>\n",
       "    <tr>\n",
       "      <th>95</th>\n",
       "      <td>96</td>\n",
       "      <td>David Barrett</td>\n",
       "      <td>Port Cynthiafurt</td>\n",
       "      <td>60</td>\n",
       "      <td>Atendimento</td>\n",
       "      <td>O atendimento telefônico demorou muito e não r...</td>\n",
       "    </tr>\n",
       "    <tr>\n",
       "      <th>96</th>\n",
       "      <td>97</td>\n",
       "      <td>Andrew Gonzalez</td>\n",
       "      <td>Ramirezhaven</td>\n",
       "      <td>30</td>\n",
       "      <td>Cancelamento</td>\n",
       "      <td>Não consigo cancelar meu serviço, mesmo após v...</td>\n",
       "    </tr>\n",
       "    <tr>\n",
       "      <th>97</th>\n",
       "      <td>98</td>\n",
       "      <td>Christopher Snyder</td>\n",
       "      <td>Tinaville</td>\n",
       "      <td>20</td>\n",
       "      <td>Qualidade, Funcionamento e Reparo</td>\n",
       "      <td>Enfrentei problemas de qualidade no serviço, m...</td>\n",
       "    </tr>\n",
       "    <tr>\n",
       "      <th>98</th>\n",
       "      <td>99</td>\n",
       "      <td>Lori Page</td>\n",
       "      <td>Port Johnmouth</td>\n",
       "      <td>26</td>\n",
       "      <td>Cobrança</td>\n",
       "      <td>A fatura deste mês veio com um valor incorreto...</td>\n",
       "    </tr>\n",
       "    <tr>\n",
       "      <th>99</th>\n",
       "      <td>100</td>\n",
       "      <td>Samantha Wyatt</td>\n",
       "      <td>Angelville</td>\n",
       "      <td>34</td>\n",
       "      <td>Cancelamento</td>\n",
       "      <td>Estou enfrentando dificuldades para cancelar m...</td>\n",
       "    </tr>\n",
       "  </tbody>\n",
       "</table>\n",
       "<p>100 rows × 6 columns</p>\n",
       "</div>"
      ],
      "text/plain": [
       "     id                nome             local  idade   \n",
       "0     1        Jordan Hayes      Michaelshire     31  \\\n",
       "1     2      Laurie Stevens     East Garyview     20   \n",
       "2     3         Ronnie Luna      Jameschester     35   \n",
       "3     4            Kayla Wu    Hernandezmouth     28   \n",
       "4     5       Johnny Molina          New Erin     46   \n",
       "..  ...                 ...               ...    ...   \n",
       "95   96       David Barrett  Port Cynthiafurt     60   \n",
       "96   97     Andrew Gonzalez      Ramirezhaven     30   \n",
       "97   98  Christopher Snyder         Tinaville     20   \n",
       "98   99           Lori Page    Port Johnmouth     26   \n",
       "99  100      Samantha Wyatt        Angelville     34   \n",
       "\n",
       "                      tipo_reclamacao   \n",
       "0                        Cancelamento  \\\n",
       "1                         Atendimento   \n",
       "2                        Cancelamento   \n",
       "3                    Dados Cadastrais   \n",
       "4                         Atendimento   \n",
       "..                                ...   \n",
       "95                        Atendimento   \n",
       "96                       Cancelamento   \n",
       "97  Qualidade, Funcionamento e Reparo   \n",
       "98                           Cobrança   \n",
       "99                       Cancelamento   \n",
       "\n",
       "                                             mensagem  \n",
       "0   Estou enfrentando dificuldades para cancelar m...  \n",
       "1   O atendimento ao cliente deixou a desejar. Não...  \n",
       "2   Estou enfrentando dificuldades para cancelar m...  \n",
       "3   As alterações recentes em meus dados cadastrai...  \n",
       "4   Fui transferido para vários setores e ainda nã...  \n",
       "..                                                ...  \n",
       "95  O atendimento telefônico demorou muito e não r...  \n",
       "96  Não consigo cancelar meu serviço, mesmo após v...  \n",
       "97  Enfrentei problemas de qualidade no serviço, m...  \n",
       "98  A fatura deste mês veio com um valor incorreto...  \n",
       "99  Estou enfrentando dificuldades para cancelar m...  \n",
       "\n",
       "[100 rows x 6 columns]"
      ]
     },
     "execution_count": 6,
     "metadata": {},
     "output_type": "execute_result"
    }
   ],
   "source": [
    "df = pd.read_csv('reclamacoes_data.csv')\n",
    "df"
   ]
  },
  {
   "cell_type": "markdown",
   "metadata": {},
   "source": [
    "### VERIFICAÇÃO DOS TIPOS DE CLASSES"
   ]
  },
  {
   "cell_type": "code",
   "execution_count": 13,
   "metadata": {},
   "outputs": [
    {
     "data": {
      "text/plain": [
       "id                  int64\n",
       "nome               object\n",
       "local              object\n",
       "idade               int64\n",
       "tipo_reclamacao    object\n",
       "mensagem           object\n",
       "label_encoded       int32\n",
       "dtype: object"
      ]
     },
     "execution_count": 13,
     "metadata": {},
     "output_type": "execute_result"
    }
   ],
   "source": [
    "df.dtypes"
   ]
  },
  {
   "cell_type": "markdown",
   "metadata": {},
   "source": [
    "### CRIANDO A LABEL ENCONDED PARA TREINAR O MODELO"
   ]
  },
  {
   "cell_type": "code",
   "execution_count": 40,
   "metadata": {},
   "outputs": [
    {
     "name": "stdout",
     "output_type": "stream",
     "text": [
      "Classes únicas: [2 0 4 6 3 7 1 8 5 9]\n"
     ]
    }
   ],
   "source": [
    "import pandas as pd\n",
    "from sklearn.model_selection import train_test_split\n",
    "from transformers import BertTokenizer, BertForSequenceClassification, AdamW\n",
    "from torch.utils.data import DataLoader, Dataset\n",
    "import torch\n",
    "from tqdm import tqdm\n",
    "from sklearn.preprocessing import LabelEncoder\n",
    "\n",
    "df = pd.read_csv('reclamacoes_data.csv')\n",
    "\n",
    "# Criando ou carregando a coluna 'label_encoded'\n",
    "label_encoder = LabelEncoder()\n",
    "\n",
    "# 'label_encoded'\n",
    "if 'label_encoded' not in df.columns:\n",
    "    df['label_encoded'] = label_encoder.fit_transform(df['tipo_reclamacao'])\n",
    "\n",
    "df.dtypes\n",
    "\n",
    "# Verificar as classes únicas\n",
    "unique_labels = df['label_encoded'].unique()\n",
    "print(f'Classes únicas: {unique_labels}')"
   ]
  },
  {
   "cell_type": "markdown",
   "metadata": {},
   "source": [
    "### TREINAMENTO DO MODELO"
   ]
  },
  {
   "cell_type": "code",
   "execution_count": 41,
   "metadata": {},
   "outputs": [
    {
     "name": "stderr",
     "output_type": "stream",
     "text": [
      "Some weights of BertForSequenceClassification were not initialized from the model checkpoint at ./bert-base-portuguese-cased/ and are newly initialized: ['classifier.bias', 'classifier.weight']\n",
      "You should probably TRAIN this model on a down-stream task to be able to use it for predictions and inference.\n",
      "c:\\Python311\\Lib\\site-packages\\transformers\\optimization.py:429: FutureWarning: This implementation of AdamW is deprecated and will be removed in a future version. Use the PyTorch implementation torch.optim.AdamW instead, or set `no_deprecation_warning=True` to disable this warning\n",
      "  warnings.warn(\n",
      "Epoch 1:   0%|          | 0/20 [00:00<?, ?it/s]C:\\Users\\felipe\\AppData\\Local\\Temp\\ipykernel_4356\\4230901650.py:28: UserWarning: To copy construct from a tensor, it is recommended to use sourceTensor.clone().detach() or sourceTensor.clone().detach().requires_grad_(True), rather than torch.tensor(sourceTensor).\n",
      "  return {key: torch.tensor(val[idx]) for key, val in self.tokens.items()}, torch.tensor(self.labels[idx])\n",
      "Epoch 1: 100%|██████████| 20/20 [00:43<00:00,  2.18s/it]\n"
     ]
    },
    {
     "name": "stdout",
     "output_type": "stream",
     "text": [
      "Training Loss (Epoch 1): 2.2981475234031676\n"
     ]
    },
    {
     "name": "stderr",
     "output_type": "stream",
     "text": [
      "Epoch 2: 100%|██████████| 20/20 [00:43<00:00,  2.16s/it]\n"
     ]
    },
    {
     "name": "stdout",
     "output_type": "stream",
     "text": [
      "Training Loss (Epoch 2): 1.7805844128131867\n"
     ]
    },
    {
     "name": "stderr",
     "output_type": "stream",
     "text": [
      "Epoch 3: 100%|██████████| 20/20 [00:43<00:00,  2.17s/it]\n"
     ]
    },
    {
     "name": "stdout",
     "output_type": "stream",
     "text": [
      "Training Loss (Epoch 3): 0.9677993208169937\n"
     ]
    },
    {
     "name": "stderr",
     "output_type": "stream",
     "text": [
      "Testing: 100%|██████████| 5/5 [00:03<00:00,  1.60it/s]"
     ]
    },
    {
     "name": "stdout",
     "output_type": "stream",
     "text": [
      "Test Accuracy: 85.00%\n"
     ]
    },
    {
     "name": "stderr",
     "output_type": "stream",
     "text": [
      "\n"
     ]
    }
   ],
   "source": [
    "import joblib\n",
    "# Dividindo os dados em conjuntos de treino e teste\n",
    "train_df, test_df = train_test_split(df, test_size=0.2, random_state=42)\n",
    "\n",
    "# Carregando o seu modelo BERT e o tokenizador\n",
    "model_path = './bert-base-portuguese-cased/'
    "num_classes = len(df['label_encoded'].unique())\n",
    "model = BertForSequenceClassification.from_pretrained(model_path, num_labels=num_classes)\n",
    "tokenizer = BertTokenizer.from_pretrained(model_path)\n",
    "\n",
    "# Tokenizando as mensagens\n",
    "def tokenize_messages(messages, max_length=128):\n",
    "    return tokenizer(messages, max_length=max_length, truncation=True, padding='max_length', return_tensors='pt')\n",
    "\n",
    "train_tokens = tokenize_messages(train_df['mensagem'].tolist())\n",
    "test_tokens = tokenize_messages(test_df['mensagem'].tolist())\n",
    "\n",
    "# Criando um DataLoader para facilitar o treinamento\n",
    "class CustomDataset(Dataset):\n",
    "    def __init__(self, tokens, labels):\n",
    "        self.tokens = tokens\n",
    "        self.labels = labels\n",
    "\n",
    "    def __len__(self):\n",
    "        return len(self.labels)\n",
    "\n",
    "    def __getitem__(self, idx):\n",
    "        return {key: torch.tensor(val[idx]) for key, val in self.tokens.items()}, torch.tensor(self.labels[idx])\n",
    "\n",
    "train_dataset = CustomDataset(train_tokens, train_df['label_encoded'].tolist())\n",
    "test_dataset = CustomDataset(test_tokens, test_df['label_encoded'].tolist())\n",
    "\n",
    "train_loader = DataLoader(train_dataset, batch_size=4, shuffle=True)\n",
    "\n",
    "# Configurando o otimizador e função de perda\n",
    "optimizer = AdamW(model.parameters(), lr=5e-5)\n",
    "loss_fn = torch.nn.CrossEntropyLoss()\n",
    "\n",
    "num_epochs = 3\n",
    "\n",
    "for epoch in range(num_epochs):\n",
    "    model.train()\n",
    "    total_loss = 0\n",
    "\n",
    "    for batch in tqdm(train_loader, desc=f'Epoch {epoch + 1}'):\n",
    "        optimizer.zero_grad()\n",
    "        inputs, labels = batch\n",
    "        outputs = model(**inputs)\n",
    "        loss = loss_fn(outputs.logits, labels)\n",
    "        total_loss += loss.item()\n",
    "        loss.backward()\n",
    "        optimizer.step()\n",
    "\n",
    "    print(f'Training Loss (Epoch {epoch + 1}): {total_loss / len(train_loader)}')\n",
    "\n",
    "# Salvar o modelo treinado\n",
    "model.save_pretrained('./modelo')  # Salvar dentro da pasta ./modelo\n",
    "tokenizer.save_pretrained('./modelo')  # Salvar também o tokenizador\n",
    "\n",
    "# Salvar o modelo usando joblib\n",
    "joblib.dump(model, 'modelo.joblib')\n",
    "\n",
    "# Avaliando o modelo no conjunto de teste\n",
    "model.eval()\n",
    "test_loader = DataLoader(test_dataset, batch_size=4, shuffle=False)\n",
    "total_correct = 0\n",
    "\n",
    "with torch.no_grad():\n",
    "    for batch in tqdm(test_loader, desc='Testing'):\n",
    "        inputs, labels = batch\n",
    "        outputs = model(**inputs)\n",
    "        predictions = torch.argmax(outputs.logits, dim=1)\n",
    "        total_correct += torch.sum(predictions == labels).item()\n",
    "\n",
    "accuracy = total_correct / len(test_dataset)\n",
    "print(f'Test Accuracy: {accuracy * 100:.2f}%')"
   ]
  },
  {
   "cell_type": "markdown",
   "metadata": {},
   "source": [
    "### TESTE E AVALIAÇÃO"
   ]
  },
  {
   "cell_type": "code",
   "execution_count": 43,
   "metadata": {},
   "outputs": [
    {
     "name": "stdout",
     "output_type": "stream",
     "text": [
      "Tipo de reclamação previsto para a nova mensagem: Bloqueio, Desbloqueio ou Suspensão\n"
     ]
    }
   ],
   "source": [
    "import torch\n",
    "\n",
    "# Função para pré-processar a nova mensagem e obter as previsões do modelo\n",
    "def prever_tipo_reclamacao(model, tokenizer, mensagem):\n",
    "    model.eval()\n",
    "\n",
    "    # Tokenizando a nova mensagem\n",
    "    tokens = tokenizer(mensagem, return_tensors='pt')\n",
    "    \n",
    "    # Obtendo previsões do modelo\n",
    "    with torch.no_grad():\n",
    "        outputs = model(**tokens)\n",
    "\n",
    "    # Obtendo as classes previstas\n",
    "    predicted_class = torch.argmax(outputs.logits, dim=1).item()\n",
    "\n",
    "    # Convertendo a classe prevista de volta para a categoria original\n",
    "    predicted_label = label_encoder.inverse_transform([predicted_class])[0]\n",
    "\n",
    "    return predicted_label\n",
    "\n",
    "# Exemplo de uso:\n",
    "nova_mensagem = \"O bloqueio ao cliente foi péssimo!\"\n",
    "tipo_reclamacao_previsto = prever_tipo_reclamacao(model, tokenizer, nova_mensagem)\n",
    "\n",
    "print(f'Tipo de reclamação previsto para a nova mensagem: {tipo_reclamacao_previsto}')\n"
   ]
  }
 ],
 "metadata": {
  "kernelspec": {
   "display_name": "Python 3",
   "language": "python",
   "name": "python3"
  },
  "language_info": {
   "codemirror_mode": {
    "name": "ipython",
    "version": 3
   },
   "file_extension": ".py",
   "mimetype": "text/x-python",
   "name": "python",
   "nbconvert_exporter": "python",
   "pygments_lexer": "ipython3",
   "version": "3.11.3"
  }
 },
 "nbformat": 4,
 "nbformat_minor": 2
}
